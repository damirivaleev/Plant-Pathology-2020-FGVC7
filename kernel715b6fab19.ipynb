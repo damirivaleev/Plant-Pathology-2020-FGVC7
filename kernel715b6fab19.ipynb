{
 "cells": [
  {
   "cell_type": "code",
   "execution_count": 1,
   "metadata": {
    "_cell_guid": "b1076dfc-b9ad-4769-8c92-a6c4dae69d19",
    "_uuid": "8f2839f25d086af736a60e9eeb907d3b93b6e0e5"
   },
   "outputs": [],
   "source": [
    "# This Python 3 environment comes with many helpful analytics libraries installed\n",
    "# It is defined by the kaggle/python docker image: https://github.com/kaggle/docker-python\n",
    "# For example, here's several helpful packages to load in \n",
    "\n",
    "import numpy as np # linear algebra\n",
    "import pandas as pd # data processing, CSV file I/O (e.g. pd.read_csv)\n",
    "\n",
    "# Input data files are available in the \"../input/\" directory.\n",
    "# For example, running this (by clicking run or pressing Shift+Enter) will list all files under the input directory\n",
    "\n",
    "import os\n",
    "#for dirname, _, filenames in os.walk('/kaggle/input'):\n",
    "    #for filename in filenames:\n",
    "        #print(os.path.join(dirname, filename))\n",
    "\n",
    "# Any results you write to the current directory are saved as output."
   ]
  },
  {
   "cell_type": "code",
   "execution_count": 2,
   "metadata": {},
   "outputs": [],
   "source": [
    "import cv2\n",
    "import matplotlib.pyplot as plt\n",
    "from sklearn.model_selection import train_test_split"
   ]
  },
  {
   "cell_type": "code",
   "execution_count": 3,
   "metadata": {
    "_cell_guid": "79c7e3d0-c299-4dcb-8224-4455121ee9b0",
    "_uuid": "d629ff2d2480ee46fbb7e2d37f6b5fab8052498a"
   },
   "outputs": [],
   "source": [
    "train = pd.read_csv('/kaggle/input/plant-pathology-2020-fgvc7/train.csv')"
   ]
  },
  {
   "cell_type": "code",
   "execution_count": 4,
   "metadata": {},
   "outputs": [],
   "source": [
    "train['image_id']=train['image_id']+'.jpg'"
   ]
  },
  {
   "cell_type": "code",
   "execution_count": 5,
   "metadata": {},
   "outputs": [
    {
     "data": {
      "text/html": [
       "<div>\n",
       "<style scoped>\n",
       "    .dataframe tbody tr th:only-of-type {\n",
       "        vertical-align: middle;\n",
       "    }\n",
       "\n",
       "    .dataframe tbody tr th {\n",
       "        vertical-align: top;\n",
       "    }\n",
       "\n",
       "    .dataframe thead th {\n",
       "        text-align: right;\n",
       "    }\n",
       "</style>\n",
       "<table border=\"1\" class=\"dataframe\">\n",
       "  <thead>\n",
       "    <tr style=\"text-align: right;\">\n",
       "      <th></th>\n",
       "      <th>image_id</th>\n",
       "      <th>healthy</th>\n",
       "      <th>multiple_diseases</th>\n",
       "      <th>rust</th>\n",
       "      <th>scab</th>\n",
       "    </tr>\n",
       "  </thead>\n",
       "  <tbody>\n",
       "    <tr>\n",
       "      <th>0</th>\n",
       "      <td>Train_0.jpg</td>\n",
       "      <td>0</td>\n",
       "      <td>0</td>\n",
       "      <td>0</td>\n",
       "      <td>1</td>\n",
       "    </tr>\n",
       "    <tr>\n",
       "      <th>1</th>\n",
       "      <td>Train_1.jpg</td>\n",
       "      <td>0</td>\n",
       "      <td>1</td>\n",
       "      <td>0</td>\n",
       "      <td>0</td>\n",
       "    </tr>\n",
       "    <tr>\n",
       "      <th>2</th>\n",
       "      <td>Train_2.jpg</td>\n",
       "      <td>1</td>\n",
       "      <td>0</td>\n",
       "      <td>0</td>\n",
       "      <td>0</td>\n",
       "    </tr>\n",
       "    <tr>\n",
       "      <th>3</th>\n",
       "      <td>Train_3.jpg</td>\n",
       "      <td>0</td>\n",
       "      <td>0</td>\n",
       "      <td>1</td>\n",
       "      <td>0</td>\n",
       "    </tr>\n",
       "    <tr>\n",
       "      <th>4</th>\n",
       "      <td>Train_4.jpg</td>\n",
       "      <td>1</td>\n",
       "      <td>0</td>\n",
       "      <td>0</td>\n",
       "      <td>0</td>\n",
       "    </tr>\n",
       "    <tr>\n",
       "      <th>...</th>\n",
       "      <td>...</td>\n",
       "      <td>...</td>\n",
       "      <td>...</td>\n",
       "      <td>...</td>\n",
       "      <td>...</td>\n",
       "    </tr>\n",
       "    <tr>\n",
       "      <th>1816</th>\n",
       "      <td>Train_1816.jpg</td>\n",
       "      <td>0</td>\n",
       "      <td>0</td>\n",
       "      <td>0</td>\n",
       "      <td>1</td>\n",
       "    </tr>\n",
       "    <tr>\n",
       "      <th>1817</th>\n",
       "      <td>Train_1817.jpg</td>\n",
       "      <td>1</td>\n",
       "      <td>0</td>\n",
       "      <td>0</td>\n",
       "      <td>0</td>\n",
       "    </tr>\n",
       "    <tr>\n",
       "      <th>1818</th>\n",
       "      <td>Train_1818.jpg</td>\n",
       "      <td>1</td>\n",
       "      <td>0</td>\n",
       "      <td>0</td>\n",
       "      <td>0</td>\n",
       "    </tr>\n",
       "    <tr>\n",
       "      <th>1819</th>\n",
       "      <td>Train_1819.jpg</td>\n",
       "      <td>0</td>\n",
       "      <td>0</td>\n",
       "      <td>1</td>\n",
       "      <td>0</td>\n",
       "    </tr>\n",
       "    <tr>\n",
       "      <th>1820</th>\n",
       "      <td>Train_1820.jpg</td>\n",
       "      <td>0</td>\n",
       "      <td>0</td>\n",
       "      <td>0</td>\n",
       "      <td>1</td>\n",
       "    </tr>\n",
       "  </tbody>\n",
       "</table>\n",
       "<p>1821 rows × 5 columns</p>\n",
       "</div>"
      ],
      "text/plain": [
       "            image_id  healthy  multiple_diseases  rust  scab\n",
       "0        Train_0.jpg        0                  0     0     1\n",
       "1        Train_1.jpg        0                  1     0     0\n",
       "2        Train_2.jpg        1                  0     0     0\n",
       "3        Train_3.jpg        0                  0     1     0\n",
       "4        Train_4.jpg        1                  0     0     0\n",
       "...              ...      ...                ...   ...   ...\n",
       "1816  Train_1816.jpg        0                  0     0     1\n",
       "1817  Train_1817.jpg        1                  0     0     0\n",
       "1818  Train_1818.jpg        1                  0     0     0\n",
       "1819  Train_1819.jpg        0                  0     1     0\n",
       "1820  Train_1820.jpg        0                  0     0     1\n",
       "\n",
       "[1821 rows x 5 columns]"
      ]
     },
     "execution_count": 5,
     "metadata": {},
     "output_type": "execute_result"
    }
   ],
   "source": [
    "train"
   ]
  },
  {
   "cell_type": "code",
   "execution_count": 6,
   "metadata": {},
   "outputs": [],
   "source": [
    "im_size = 512"
   ]
  },
  {
   "cell_type": "code",
   "execution_count": 7,
   "metadata": {},
   "outputs": [],
   "source": [
    "labels = train.loc[:, 'healthy':].to_numpy()"
   ]
  },
  {
   "cell_type": "code",
   "execution_count": 8,
   "metadata": {},
   "outputs": [],
   "source": [
    "train_images, valid_images, train_labels, valid_labels = train_test_split(train, labels, random_state=2020, test_size=0.1, stratify=labels)"
   ]
  },
  {
   "cell_type": "code",
   "execution_count": 9,
   "metadata": {},
   "outputs": [],
   "source": [
    "labels = 0\n",
    "images = 0"
   ]
  },
  {
   "cell_type": "code",
   "execution_count": 10,
   "metadata": {},
   "outputs": [],
   "source": [
    "num_classes = 4"
   ]
  },
  {
   "cell_type": "code",
   "execution_count": 11,
   "metadata": {},
   "outputs": [
    {
     "name": "stderr",
     "output_type": "stream",
     "text": [
      "Using TensorFlow backend.\n"
     ]
    }
   ],
   "source": [
    "from keras.preprocessing.image import ImageDataGenerator\n",
    "\n",
    "train_datagen = ImageDataGenerator(\n",
    "    rotation_range=10,\n",
    "    width_shift_range=0.1,\n",
    "    height_shift_range=0.1,\n",
    "    fill_mode='nearest',\n",
    "    shear_range=0.1,\n",
    "    rescale=1/255,    \n",
    "    brightness_range=[0.5, 1.5],\n",
    "    zoom_range=0.1,\n",
    "    horizontal_flip=True,\n",
    "    vertical_flip=True,)"
   ]
  },
  {
   "cell_type": "code",
   "execution_count": 12,
   "metadata": {},
   "outputs": [
    {
     "name": "stdout",
     "output_type": "stream",
     "text": [
      "Found 1638 validated image filenames.\n"
     ]
    }
   ],
   "source": [
    "train_generator = train_datagen.flow_from_dataframe(\n",
    "    train_images,\n",
    "    directory='/kaggle/input/plant-pathology-2020-fgvc7/images/',\n",
    "    x_col=\"image_id\", \n",
    "    y_col=['healthy','multiple_diseases','rust','scab'], \n",
    "    target_size=(im_size, im_size), \n",
    "    class_mode='raw',\n",
    "    subset='training',\n",
    "    batch_size=16)"
   ]
  },
  {
   "cell_type": "code",
   "execution_count": 13,
   "metadata": {},
   "outputs": [
    {
     "name": "stdout",
     "output_type": "stream",
     "text": [
      "Found 183 validated image filenames.\n"
     ]
    }
   ],
   "source": [
    "valid_generator = train_datagen.flow_from_dataframe(\n",
    "    valid_images,\n",
    "    directory='/kaggle/input/plant-pathology-2020-fgvc7/images/',\n",
    "    x_col=\"image_id\", \n",
    "    y_col=['healthy','multiple_diseases','rust','scab'], \n",
    "    target_size=(im_size, im_size), \n",
    "    class_mode='raw',\n",
    "    batch_size=16)"
   ]
  },
  {
   "cell_type": "code",
   "execution_count": 14,
   "metadata": {},
   "outputs": [
    {
     "name": "stdout",
     "output_type": "stream",
     "text": [
      "Downloading data from https://github.com/keras-team/keras-applications/releases/download/densenet/densenet121_weights_tf_dim_ordering_tf_kernels_notop.h5\n",
      "29089792/29084464 [==============================] - 1s 0us/step\n"
     ]
    }
   ],
   "source": [
    "from keras.applications.densenet import DenseNet121\n",
    "from keras.preprocessing import image\n",
    "from keras.models import Model\n",
    "from keras.layers import Dense, GlobalAveragePooling2D\n",
    "from keras import backend as K\n",
    "import tensorflow as tf\n",
    "\n",
    "# create the base pre-trained model\n",
    "base_model = DenseNet121(weights='imagenet', include_top=False)\n",
    "\n",
    "# add a global spatial average pooling layer\n",
    "x = base_model.output\n",
    "x = GlobalAveragePooling2D()(x)\n",
    "# let's add a fully-connected layer\n",
    "#x = Dense(512, activation='relu')(x)\n",
    "# and a logistic layer -- let's say we have 200 classes\n",
    "predictions = Dense(num_classes, activation='softmax')(x)\n",
    "\n",
    "# this is the model we will train\n",
    "model = Model(inputs=base_model.input, outputs=predictions)"
   ]
  },
  {
   "cell_type": "code",
   "execution_count": 15,
   "metadata": {},
   "outputs": [],
   "source": [
    "layers_count = len(model.layers)\n",
    "\n",
    "for layer in model.layers[:(layers_count // 2)]:\n",
    "    layer.trainable = False"
   ]
  },
  {
   "cell_type": "code",
   "execution_count": 16,
   "metadata": {},
   "outputs": [],
   "source": [
    "from keras.optimizers import SGD\n",
    "model.compile(optimizer='adam', loss='categorical_crossentropy', metrics=[tf.keras.metrics.AUC()])"
   ]
  },
  {
   "cell_type": "code",
   "execution_count": 17,
   "metadata": {},
   "outputs": [],
   "source": [
    "import keras\n",
    "from keras.callbacks import ReduceLROnPlateau\n",
    "\n",
    "early_stopping = keras.callbacks.EarlyStopping(monitor='val_loss',\n",
    "                              min_delta=0,\n",
    "                              patience=2,\n",
    "                              verbose=0, mode='auto')\n",
    "\n",
    "filepath = 'best_weights.hdf5'\n",
    "\n",
    "model_checkpoint = keras.callbacks.ModelCheckpoint(filepath,\n",
    "    monitor=\"val_loss\",\n",
    "    verbose=0,\n",
    "    save_best_only=True,\n",
    "    save_weights_only=True,\n",
    "    mode=\"auto\")"
   ]
  },
  {
   "cell_type": "code",
   "execution_count": 18,
   "metadata": {},
   "outputs": [
    {
     "name": "stdout",
     "output_type": "stream",
     "text": [
      "Epoch 1/90\n",
      "10/10 [==============================] - 290s 29s/step - loss: 0.9839 - auc: 0.7733 - val_loss: 10.7373 - val_auc: 0.7383\n",
      "Epoch 2/90\n",
      "10/10 [==============================] - 257s 26s/step - loss: 0.5682 - auc: 0.7141 - val_loss: 9.3288 - val_auc: 0.7173\n",
      "Epoch 3/90\n",
      "10/10 [==============================] - 252s 25s/step - loss: 0.3935 - auc: 0.7220 - val_loss: 27.8502 - val_auc: 0.7189\n",
      "Epoch 4/90\n",
      "10/10 [==============================] - 241s 24s/step - loss: 0.4813 - auc: 0.7195 - val_loss: 27.9086 - val_auc: 0.7155\n",
      "Epoch 5/90\n",
      "10/10 [==============================] - 252s 25s/step - loss: 0.4184 - auc: 0.7169 - val_loss: 21.6297 - val_auc: 0.7137\n",
      "Epoch 6/90\n",
      "10/10 [==============================] - 253s 25s/step - loss: 0.4371 - auc: 0.7164 - val_loss: 22.0676 - val_auc: 0.7135\n",
      "Epoch 7/90\n",
      "10/10 [==============================] - 260s 26s/step - loss: 0.2562 - auc: 0.7168 - val_loss: 14.1782 - val_auc: 0.7176\n",
      "Epoch 8/90\n",
      "10/10 [==============================] - 251s 25s/step - loss: 0.3820 - auc: 0.7200 - val_loss: 8.0142 - val_auc: 0.7209\n",
      "Epoch 9/90\n",
      "10/10 [==============================] - 252s 25s/step - loss: 0.3784 - auc: 0.7235 - val_loss: 3.7653 - val_auc: 0.7254\n",
      "Epoch 10/90\n",
      "10/10 [==============================] - 245s 25s/step - loss: 0.3385 - auc: 0.7303 - val_loss: 2.5579 - val_auc: 0.7341\n",
      "Epoch 11/90\n",
      "10/10 [==============================] - 255s 26s/step - loss: 0.2157 - auc: 0.7400 - val_loss: 3.2112 - val_auc: 0.7438\n",
      "Epoch 12/90\n",
      "10/10 [==============================] - 247s 25s/step - loss: 0.1966 - auc: 0.7483 - val_loss: 3.6965 - val_auc: 0.7515\n",
      "Epoch 13/90\n",
      "10/10 [==============================] - 256s 26s/step - loss: 0.2428 - auc: 0.7558 - val_loss: 2.3852 - val_auc: 0.7591\n",
      "Epoch 14/90\n",
      "10/10 [==============================] - 251s 25s/step - loss: 0.3377 - auc: 0.7634 - val_loss: 1.5949 - val_auc: 0.7680\n",
      "Epoch 15/90\n",
      "10/10 [==============================] - 252s 25s/step - loss: 0.1534 - auc: 0.7737 - val_loss: 1.5007 - val_auc: 0.7789\n",
      "Epoch 16/90\n",
      "10/10 [==============================] - 249s 25s/step - loss: 0.2540 - auc: 0.7840 - val_loss: 0.2271 - val_auc: 0.7879\n",
      "Epoch 17/90\n",
      "10/10 [==============================] - 250s 25s/step - loss: 0.2452 - auc: 0.7929 - val_loss: 1.3100 - val_auc: 0.7970\n",
      "Epoch 18/90\n",
      "10/10 [==============================] - 247s 25s/step - loss: 0.1655 - auc: 0.8012 - val_loss: 1.4231 - val_auc: 0.8055\n",
      "Epoch 19/90\n",
      "10/10 [==============================] - 257s 26s/step - loss: 0.2865 - auc: 0.8092 - val_loss: 0.7573 - val_auc: 0.8129\n",
      "Epoch 20/90\n",
      "10/10 [==============================] - 253s 25s/step - loss: 0.3223 - auc: 0.8166 - val_loss: 1.1124 - val_auc: 0.8197\n",
      "Epoch 21/90\n",
      "10/10 [==============================] - 250s 25s/step - loss: 0.4113 - auc: 0.8225 - val_loss: 0.7212 - val_auc: 0.8253\n",
      "Epoch 22/90\n",
      "10/10 [==============================] - 252s 25s/step - loss: 0.1692 - auc: 0.8286 - val_loss: 0.4400 - val_auc: 0.8312\n",
      "Epoch 23/90\n",
      "10/10 [==============================] - 250s 25s/step - loss: 0.1804 - auc: 0.8338 - val_loss: 0.4895 - val_auc: 0.8366\n",
      "Epoch 24/90\n",
      "10/10 [==============================] - 249s 25s/step - loss: 0.1748 - auc: 0.8394 - val_loss: 0.7016 - val_auc: 0.8417\n",
      "Epoch 25/90\n",
      "10/10 [==============================] - 259s 26s/step - loss: 0.1723 - auc: 0.8440 - val_loss: 0.3908 - val_auc: 0.8462\n",
      "Epoch 26/90\n",
      "10/10 [==============================] - 254s 25s/step - loss: 0.1626 - auc: 0.8486 - val_loss: 0.8689 - val_auc: 0.8506\n",
      "Epoch 27/90\n",
      "10/10 [==============================] - 253s 25s/step - loss: 0.3708 - auc: 0.8528 - val_loss: 0.7139 - val_auc: 0.8541\n",
      "Epoch 28/90\n",
      "10/10 [==============================] - 247s 25s/step - loss: 0.2744 - auc: 0.8559 - val_loss: 1.1856 - val_auc: 0.8576\n",
      "Epoch 29/90\n",
      "10/10 [==============================] - 251s 25s/step - loss: 0.2142 - auc: 0.8595 - val_loss: 0.8226 - val_auc: 0.8612\n",
      "Epoch 30/90\n",
      "10/10 [==============================] - 252s 25s/step - loss: 0.1974 - auc: 0.8629 - val_loss: 0.9961 - val_auc: 0.8645\n",
      "Epoch 31/90\n",
      "10/10 [==============================] - 262s 26s/step - loss: 0.1871 - auc: 0.8662 - val_loss: 0.4193 - val_auc: 0.8677\n",
      "Epoch 32/90\n",
      "10/10 [==============================] - 254s 25s/step - loss: 0.2121 - auc: 0.8695 - val_loss: 0.8153 - val_auc: 0.8707\n",
      "Epoch 33/90\n",
      "10/10 [==============================] - 252s 25s/step - loss: 0.1886 - auc: 0.8722 - val_loss: 0.9164 - val_auc: 0.8736\n",
      "Epoch 34/90\n",
      "10/10 [==============================] - 246s 25s/step - loss: 0.0931 - auc: 0.8750 - val_loss: 0.4815 - val_auc: 0.8765\n",
      "Epoch 35/90\n",
      "10/10 [==============================] - 253s 25s/step - loss: 0.4029 - auc: 0.8777 - val_loss: 0.7905 - val_auc: 0.8787\n",
      "Epoch 36/90\n",
      "10/10 [==============================] - 253s 25s/step - loss: 0.1717 - auc: 0.8801 - val_loss: 0.3708 - val_auc: 0.8813\n",
      "Epoch 37/90\n",
      "10/10 [==============================] - 269s 27s/step - loss: 0.1980 - auc: 0.8826 - val_loss: 0.4764 - val_auc: 0.8837\n",
      "Epoch 38/90\n",
      "10/10 [==============================] - 259s 26s/step - loss: 0.1568 - auc: 0.8849 - val_loss: 0.4158 - val_auc: 0.8860\n",
      "Epoch 39/90\n",
      "10/10 [==============================] - 257s 26s/step - loss: 0.2288 - auc: 0.8870 - val_loss: 0.5693 - val_auc: 0.8881\n",
      "Epoch 40/90\n",
      "10/10 [==============================] - 259s 26s/step - loss: 0.1552 - auc: 0.8893 - val_loss: 0.3719 - val_auc: 0.8902\n",
      "Epoch 41/90\n",
      "10/10 [==============================] - 250s 25s/step - loss: 0.1384 - auc: 0.8913 - val_loss: 0.3941 - val_auc: 0.8922\n",
      "Epoch 42/90\n",
      "10/10 [==============================] - 261s 26s/step - loss: 0.2031 - auc: 0.8933 - val_loss: 0.6850 - val_auc: 0.8942\n",
      "Epoch 43/90\n",
      "10/10 [==============================] - 265s 27s/step - loss: 0.2147 - auc: 0.8951 - val_loss: 0.5978 - val_auc: 0.8960\n",
      "Epoch 44/90\n",
      "10/10 [==============================] - 259s 26s/step - loss: 0.2326 - auc: 0.8968 - val_loss: 0.6301 - val_auc: 0.8976\n",
      "Epoch 45/90\n",
      "10/10 [==============================] - 255s 26s/step - loss: 0.1373 - auc: 0.8985 - val_loss: 0.5893 - val_auc: 0.8993\n",
      "Epoch 46/90\n",
      "10/10 [==============================] - 259s 26s/step - loss: 0.1664 - auc: 0.9001 - val_loss: 0.5812 - val_auc: 0.9009\n",
      "Epoch 47/90\n",
      "10/10 [==============================] - 257s 26s/step - loss: 0.1873 - auc: 0.9016 - val_loss: 0.3924 - val_auc: 0.9024\n",
      "Epoch 48/90\n",
      "10/10 [==============================] - 256s 26s/step - loss: 0.2051 - auc: 0.9031 - val_loss: 0.9946 - val_auc: 0.9039\n",
      "Epoch 49/90\n",
      "10/10 [==============================] - 268s 27s/step - loss: 0.1410 - auc: 0.9046 - val_loss: 0.8297 - val_auc: 0.9054\n",
      "Epoch 50/90\n",
      "10/10 [==============================] - 254s 25s/step - loss: 0.3103 - auc: 0.9060 - val_loss: 0.4573 - val_auc: 0.9066\n",
      "Epoch 51/90\n",
      "10/10 [==============================] - 259s 26s/step - loss: 0.1653 - auc: 0.9074 - val_loss: 0.6337 - val_auc: 0.9080\n",
      "Epoch 52/90\n",
      "10/10 [==============================] - 263s 26s/step - loss: 0.1413 - auc: 0.9088 - val_loss: 0.5986 - val_auc: 0.9093\n",
      "Epoch 53/90\n",
      "10/10 [==============================] - 255s 26s/step - loss: 0.1530 - auc: 0.9100 - val_loss: 0.6901 - val_auc: 0.9105\n",
      "Epoch 54/90\n",
      "10/10 [==============================] - 258s 26s/step - loss: 0.2671 - auc: 0.9110 - val_loss: 1.0914 - val_auc: 0.9116\n",
      "Epoch 55/90\n",
      "10/10 [==============================] - 264s 26s/step - loss: 0.2474 - auc: 0.9122 - val_loss: 0.5864 - val_auc: 0.9127\n",
      "Epoch 56/90\n",
      "10/10 [==============================] - 259s 26s/step - loss: 0.1563 - auc: 0.9133 - val_loss: 0.6984 - val_auc: 0.9138\n",
      "Epoch 57/90\n",
      "10/10 [==============================] - 264s 26s/step - loss: 0.1690 - auc: 0.9143 - val_loss: 0.4804 - val_auc: 0.9149\n",
      "Epoch 58/90\n",
      "10/10 [==============================] - 253s 25s/step - loss: 0.1824 - auc: 0.9153 - val_loss: 0.4445 - val_auc: 0.9158\n",
      "Epoch 59/90\n",
      "10/10 [==============================] - 261s 26s/step - loss: 0.2583 - auc: 0.9163 - val_loss: 0.3522 - val_auc: 0.9168\n",
      "Epoch 60/90\n",
      "10/10 [==============================] - 255s 25s/step - loss: 0.2492 - auc: 0.9172 - val_loss: 0.3067 - val_auc: 0.9176\n",
      "Epoch 61/90\n",
      "10/10 [==============================] - 264s 26s/step - loss: 0.1861 - auc: 0.9181 - val_loss: 0.9436 - val_auc: 0.9185\n",
      "Epoch 62/90\n",
      "10/10 [==============================] - 261s 26s/step - loss: 0.1488 - auc: 0.9190 - val_loss: 0.6375 - val_auc: 0.9195\n",
      "Epoch 63/90\n",
      "10/10 [==============================] - 257s 26s/step - loss: 0.2680 - auc: 0.9199 - val_loss: 0.9221 - val_auc: 0.9203\n",
      "Epoch 64/90\n",
      "10/10 [==============================] - 256s 26s/step - loss: 0.1325 - auc: 0.9207 - val_loss: 0.5753 - val_auc: 0.9212\n",
      "Epoch 65/90\n",
      "10/10 [==============================] - 245s 24s/step - loss: 0.1491 - auc: 0.9216 - val_loss: 0.5683 - val_auc: 0.9220\n",
      "Epoch 66/90\n",
      "10/10 [==============================] - 255s 25s/step - loss: 0.1758 - auc: 0.9224 - val_loss: 0.9572 - val_auc: 0.9228\n",
      "Epoch 67/90\n",
      "10/10 [==============================] - 269s 27s/step - loss: 0.1583 - auc: 0.9232 - val_loss: 0.4074 - val_auc: 0.9236\n",
      "Epoch 68/90\n",
      "10/10 [==============================] - 259s 26s/step - loss: 0.2190 - auc: 0.9240 - val_loss: 0.4683 - val_auc: 0.9242\n",
      "Epoch 69/90\n",
      "10/10 [==============================] - 261s 26s/step - loss: 0.2172 - auc: 0.9246 - val_loss: 0.7827 - val_auc: 0.9250\n",
      "Epoch 70/90\n",
      "10/10 [==============================] - 259s 26s/step - loss: 0.1342 - auc: 0.9253 - val_loss: 1.2876 - val_auc: 0.9257\n",
      "Epoch 71/90\n",
      "10/10 [==============================] - 257s 26s/step - loss: 0.1964 - auc: 0.9260 - val_loss: 0.8111 - val_auc: 0.9264\n",
      "Epoch 72/90\n",
      "10/10 [==============================] - 251s 25s/step - loss: 0.1497 - auc: 0.9268 - val_loss: 0.0455 - val_auc: 0.9271\n",
      "Epoch 73/90\n",
      "10/10 [==============================] - 271s 27s/step - loss: 0.2438 - auc: 0.9274 - val_loss: 0.8611 - val_auc: 0.9278\n",
      "Epoch 74/90\n",
      "10/10 [==============================] - 258s 26s/step - loss: 0.1841 - auc: 0.9281 - val_loss: 0.8598 - val_auc: 0.9283\n",
      "Epoch 75/90\n",
      "10/10 [==============================] - 247s 25s/step - loss: 0.1112 - auc: 0.9287 - val_loss: 0.7139 - val_auc: 0.9290\n",
      "Epoch 76/90\n",
      "10/10 [==============================] - 261s 26s/step - loss: 0.1853 - auc: 0.9293 - val_loss: 0.5551 - val_auc: 0.9296\n",
      "Epoch 77/90\n",
      "10/10 [==============================] - 262s 26s/step - loss: 0.1439 - auc: 0.9300 - val_loss: 0.7777 - val_auc: 0.9302\n",
      "Epoch 78/90\n",
      "10/10 [==============================] - 263s 26s/step - loss: 0.1973 - auc: 0.9305 - val_loss: 0.5686 - val_auc: 0.9308\n",
      "Epoch 79/90\n",
      "10/10 [==============================] - 270s 27s/step - loss: 0.1850 - auc: 0.9311 - val_loss: 0.6493 - val_auc: 0.9313\n",
      "Epoch 80/90\n",
      "10/10 [==============================] - 265s 26s/step - loss: 0.2598 - auc: 0.9315 - val_loss: 0.4951 - val_auc: 0.9318\n",
      "Epoch 81/90\n",
      "10/10 [==============================] - 264s 26s/step - loss: 0.1274 - auc: 0.9321 - val_loss: 0.3626 - val_auc: 0.9324\n",
      "Epoch 82/90\n",
      "10/10 [==============================] - 257s 26s/step - loss: 0.2399 - auc: 0.9327 - val_loss: 1.0267 - val_auc: 0.9329\n",
      "Epoch 83/90\n",
      "10/10 [==============================] - 262s 26s/step - loss: 0.1524 - auc: 0.9331 - val_loss: 0.3837 - val_auc: 0.9334\n",
      "Epoch 84/90\n",
      "10/10 [==============================] - 258s 26s/step - loss: 0.1107 - auc: 0.9337 - val_loss: 0.3072 - val_auc: 0.9340\n",
      "Epoch 85/90\n",
      "10/10 [==============================] - 261s 26s/step - loss: 0.1555 - auc: 0.9342 - val_loss: 0.5541 - val_auc: 0.9344\n",
      "Epoch 86/90\n",
      "10/10 [==============================] - 258s 26s/step - loss: 0.2292 - auc: 0.9346 - val_loss: 0.4843 - val_auc: 0.9348\n",
      "Epoch 87/90\n",
      "10/10 [==============================] - 259s 26s/step - loss: 0.1784 - auc: 0.9351 - val_loss: 0.8961 - val_auc: 0.9353\n",
      "Epoch 88/90\n",
      "10/10 [==============================] - 257s 26s/step - loss: 0.3022 - auc: 0.9354 - val_loss: 0.7673 - val_auc: 0.9356\n",
      "Epoch 89/90\n",
      "10/10 [==============================] - 256s 26s/step - loss: 0.2463 - auc: 0.9359 - val_loss: 0.7583 - val_auc: 0.9360\n",
      "Epoch 90/90\n",
      "10/10 [==============================] - 245s 24s/step - loss: 0.1529 - auc: 0.9362 - val_loss: 0.9845 - val_auc: 0.9364\n"
     ]
    }
   ],
   "source": [
    "#batch_size = 64\n",
    "#epochs = 50\n",
    "\n",
    "history = model.fit_generator(train_generator,\n",
    "                    steps_per_epoch=10,\n",
    "                    epochs=90,\n",
    "                    callbacks=[ReduceLROnPlateau(monitor='val_loss', factor=0.3, patience=3, min_lr=0.000001), model_checkpoint],\n",
    "                    validation_data=valid_generator,\n",
    "                    validation_steps=10,\n",
    "                    verbose=1)"
   ]
  },
  {
   "cell_type": "code",
   "execution_count": 19,
   "metadata": {},
   "outputs": [],
   "source": [
    "model.load_weights(filepath)"
   ]
  },
  {
   "cell_type": "code",
   "execution_count": 20,
   "metadata": {},
   "outputs": [
    {
     "name": "stdout",
     "output_type": "stream",
     "text": [
      "100/100 [==============================] - 1215s 12s/step\n",
      "Training auc: 0.9366286396980286\n"
     ]
    }
   ],
   "source": [
    "scores_train = model.evaluate_generator(train_generator, 100, verbose=1)\n",
    "print('Training auc:', scores_train[1])"
   ]
  },
  {
   "cell_type": "code",
   "execution_count": 21,
   "metadata": {},
   "outputs": [
    {
     "name": "stdout",
     "output_type": "stream",
     "text": [
      "100/100 [==============================] - 1161s 12s/step\n",
      "Validation auc: 0.9370340704917908\n"
     ]
    }
   ],
   "source": [
    "scores = model.evaluate_generator(valid_generator, 100, verbose=1)\n",
    "print('Validation auc:', scores[1])"
   ]
  },
  {
   "cell_type": "code",
   "execution_count": 22,
   "metadata": {},
   "outputs": [
    {
     "data": {
      "image/png": "[encoded data removed]",
      "text/plain": [
       "<Figure size 432x288 with 1 Axes>"
      ]
     },
     "metadata": {
      "needs_background": "light"
     },
     "output_type": "display_data"
    }
   ],
   "source": [
    "plt.plot(history.history['auc'])\n",
    "plt.plot(history.history['val_auc'])\n",
    "plt.title('Model accuracy')\n",
    "plt.ylabel('Auc')\n",
    "plt.xlabel('Epoch')\n",
    "plt.legend(['Train', 'Valid'], loc='upper left')\n",
    "plt.show()"
   ]
  },
  {
   "cell_type": "code",
   "execution_count": 23,
   "metadata": {},
   "outputs": [
    {
     "data": {
      "image/png": "[encoded data removed]",
      "text/plain": [
       "<Figure size 432x288 with 1 Axes>"
      ]
     },
     "metadata": {
      "needs_background": "light"
     },
     "output_type": "display_data"
    }
   ],
   "source": [
    "plt.plot(history.history['loss'])\n",
    "plt.plot(history.history['val_loss'])\n",
    "plt.title('Model loss')\n",
    "plt.ylabel('Loss')\n",
    "plt.xlabel('Epoch')\n",
    "plt.legend(['Train', 'Valid'], loc='upper left')\n",
    "plt.show()"
   ]
  },
  {
   "cell_type": "code",
   "execution_count": 24,
   "metadata": {},
   "outputs": [],
   "source": [
    "test = pd.read_csv('/kaggle/input/plant-pathology-2020-fgvc7/test.csv')"
   ]
  },
  {
   "cell_type": "code",
   "execution_count": 25,
   "metadata": {},
   "outputs": [],
   "source": [
    "test['image_id'] = test['image_id'] + '.jpg'"
   ]
  },
  {
   "cell_type": "code",
   "execution_count": 26,
   "metadata": {},
   "outputs": [
    {
     "name": "stdout",
     "output_type": "stream",
     "text": [
      "Found 1821 validated image filenames.\n"
     ]
    }
   ],
   "source": [
    "test_generator = train_datagen.flow_from_dataframe(\n",
    "    test,\n",
    "    directory='/kaggle/input/plant-pathology-2020-fgvc7/images/',\n",
    "    x_col=\"image_id\", \n",
    "    y_col=None, \n",
    "    target_size=(im_size, im_size), \n",
    "    class_mode=None,\n",
    "    batch_size=16,\n",
    "    shuffle=False)"
   ]
  },
  {
   "cell_type": "code",
   "execution_count": 27,
   "metadata": {},
   "outputs": [],
   "source": [
    "submission = pd.read_csv('/kaggle/input/plant-pathology-2020-fgvc7/sample_submission.csv')"
   ]
  },
  {
   "cell_type": "code",
   "execution_count": 28,
   "metadata": {},
   "outputs": [
    {
     "name": "stdout",
     "output_type": "stream",
     "text": [
      "114/114 [==============================] - 1389s 12s/step\n"
     ]
    }
   ],
   "source": [
    "submission.loc[:, 'healthy':] = model.predict(test_generator, verbose=1)"
   ]
  },
  {
   "cell_type": "code",
   "execution_count": 29,
   "metadata": {},
   "outputs": [],
   "source": [
    "submission.to_csv('submission.csv', index=False)"
   ]
  }
 ],
 "metadata": {
  "kernelspec": {
   "display_name": "Python 3",
   "language": "python",
   "name": "python3"
  },
  "language_info": {
   "codemirror_mode": {
    "name": "ipython",
    "version": 3
   },
   "file_extension": ".py",
   "mimetype": "text/x-python",
   "name": "python",
   "nbconvert_exporter": "python",
   "pygments_lexer": "ipython3",
   "version": "3.6.6"
  }
 },
 "nbformat": 4,
 "nbformat_minor": 4
}
